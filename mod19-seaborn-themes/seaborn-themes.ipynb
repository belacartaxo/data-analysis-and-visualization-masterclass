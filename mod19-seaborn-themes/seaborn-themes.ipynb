{
 "cells": [
  {
   "cell_type": "markdown",
   "metadata": {},
   "source": [
    "# Seaborn themes"
   ]
  },
  {
   "cell_type": "markdown",
   "metadata": {},
   "source": [
    "## Customizing Styles with `set_style` and `set_theme`\n",
    "\n",
    "- **Whitegrid, Darkgrid, Ticks**: These are some of the preset styles you can use to customize the look of your plots. They control elements like background color, grid lines, and tick marks.\n",
    "  \n",
    "- **`set_style`**: This function is used to set a particular style for your plots. It allows you to modify things like grid lines, background color, and font size.\n",
    "  \n",
    "- **`set_theme`**: This function is used to set an overall theme for your plots. You can use it to set general settings for your plots' appearance.\n",
    "  \n",
    "## `despine()`\n",
    "\n",
    "- This function removes the top and right spines (borders) of your plot, giving it a cleaner look.\n",
    "\n",
    "## `color_palette()`\n",
    "\n",
    "- This function allows you to define a color palette for your plots. You can pass the palette you want to use as an argument.\n",
    "  \n",
    "  Example: `sns.set_palette(\"Blues\")`\n",
    "\n",
    "- If you want to use a specific palette globally across all your plots, you can do this:\n",
    "\n",
    "```python\n",
    "import seaborn as sns\n",
    "sns.set_palette(\"Blues\")\n",
    "```\n",
    "\n",
    "## Single Line Plots with color=\n",
    "If you are working with a single line in a plot, you can use the color argument to specify a color.\n",
    "\n",
    "Example: `sns.lineplot(data=data, color=\"blue\")`"
   ]
  },
  {
   "cell_type": "markdown",
   "metadata": {},
   "source": []
  }
 ],
 "metadata": {
  "kernelspec": {
   "display_name": "venv",
   "language": "python",
   "name": "python3"
  },
  "language_info": {
   "codemirror_mode": {
    "name": "ipython",
    "version": 3
   },
   "file_extension": ".py",
   "mimetype": "text/x-python",
   "name": "python",
   "nbconvert_exporter": "python",
   "pygments_lexer": "ipython3",
   "version": "3.12.8"
  }
 },
 "nbformat": 4,
 "nbformat_minor": 2
}
