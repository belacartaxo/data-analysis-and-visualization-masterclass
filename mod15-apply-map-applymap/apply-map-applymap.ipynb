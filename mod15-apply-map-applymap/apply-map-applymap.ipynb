{
 "cells": [
  {
   "cell_type": "markdown",
   "metadata": {},
   "source": [
    "# Apply, map, applymap\n",
    "\n",
    "## 1. `apply`\n",
    "- Used to **apply a function** to a Series or DataFrame.\n",
    "\n",
    "### Applying to a Series\n",
    "- **Basic Example:**\n",
    "    ```python\n",
    "    titanic[\"age\"].apply(years_to_days)\n",
    "    ```\n",
    "    Applies the years_to_days function to each value in the age column.\n",
    "\n",
    "### Function with Multiple Arguments:\n",
    "\n",
    "```python\n",
    "def currency(num, mult):\n",
    "    return num * mult\n",
    "titanic[\"fare\"].apply(currency, args=(24,))\n",
    "```\n",
    "The args parameter is used to pass additional arguments to the function.\n",
    "\n",
    "### Using Lambda Functions:\n",
    "\n",
    "```python\n",
    "titanic[\"fare\"].apply(lambda x: f\"${x * 24}\")\n",
    "```\n",
    "### Applying to a DataFrame\n",
    "- Row/Column-Wise Operation:\n",
    "    ```python\n",
    "    df.apply(lambda x: x.max() - x.min())\n",
    "    ```\n",
    "- By default, it operates column-wise. Set axis=1 to apply row-wise:\n",
    "    ```python\n",
    "    df.apply(lambda x: x.max() - x.min(), axis=1)\n",
    "    ```\n",
    "\n",
    "## 2. `map`\n",
    "Used only for Series to apply a function, dictionary, or mapping to each element.\n",
    "\n",
    "### Examples\n",
    "#### Using a Dictionary for Mapping:\n",
    "\n",
    "```python\n",
    "titanic[\"pclass\"].map({1: \"1st\", 2: \"2nd\", 3: \"3rd\"})\n",
    "```\n",
    "Maps values in the pclass column according to the dictionary.\n",
    "\n",
    "#### Using a Lambda Function:\n",
    "\n",
    "```python\n",
    "df[\"age\"].map(lambda x: x <= 18)\n",
    "```\n",
    "Evaluates whether each age is less than or equal to 18.\n",
    "\n",
    "## 3. `applymap`\n",
    "Used to apply a function element-wise to all cells in a DataFrame.\n",
    "```python\n",
    "df.applymap(func)\n",
    "```\n"
   ]
  },
  {
   "cell_type": "code",
   "execution_count": 2,
   "metadata": {},
   "outputs": [],
   "source": [
    "import pandas as pd\n",
    "titanic = pd.read_csv(\"../data/titanic.csv\")"
   ]
  },
  {
   "cell_type": "code",
   "execution_count": 4,
   "metadata": {},
   "outputs": [],
   "source": [
    "def years_to_days(yrs):\n",
    "    return yrs*365"
   ]
  },
  {
   "cell_type": "code",
   "execution_count": 5,
   "metadata": {},
   "outputs": [
    {
     "data": {
      "text/plain": [
       "0       2929292929292929292929292929292929292929292929...\n",
       "1       0.91670.91670.91670.91670.91670.91670.91670.91...\n",
       "2       2222222222222222222222222222222222222222222222...\n",
       "3       3030303030303030303030303030303030303030303030...\n",
       "4       2525252525252525252525252525252525252525252525...\n",
       "                              ...                        \n",
       "1304    14.514.514.514.514.514.514.514.514.514.514.514...\n",
       "1305    ??????????????????????????????????????????????...\n",
       "1306    26.526.526.526.526.526.526.526.526.526.526.526...\n",
       "1307    2727272727272727272727272727272727272727272727...\n",
       "1308    2929292929292929292929292929292929292929292929...\n",
       "Name: age, Length: 1309, dtype: object"
      ]
     },
     "execution_count": 5,
     "metadata": {},
     "output_type": "execute_result"
    }
   ],
   "source": [
    "titanic[\"age\"].apply(years_to_days)"
   ]
  },
  {
   "cell_type": "code",
   "execution_count": 7,
   "metadata": {},
   "outputs": [
    {
     "data": {
      "text/plain": [
       "0       $211.3375211.3375211.3375211.3375211.3375211.3...\n",
       "1       $151.55151.55151.55151.55151.55151.55151.55151...\n",
       "2       $151.55151.55151.55151.55151.55151.55151.55151...\n",
       "3       $151.55151.55151.55151.55151.55151.55151.55151...\n",
       "4       $151.55151.55151.55151.55151.55151.55151.55151...\n",
       "                              ...                        \n",
       "1304    $14.454214.454214.454214.454214.454214.454214....\n",
       "1305    $14.454214.454214.454214.454214.454214.454214....\n",
       "1306    $7.2257.2257.2257.2257.2257.2257.2257.2257.225...\n",
       "1307    $7.2257.2257.2257.2257.2257.2257.2257.2257.225...\n",
       "1308    $7.8757.8757.8757.8757.8757.8757.8757.8757.875...\n",
       "Name: fare, Length: 1309, dtype: object"
      ]
     },
     "execution_count": 7,
     "metadata": {},
     "output_type": "execute_result"
    }
   ],
   "source": [
    "titanic[\"fare\"].apply(lambda x: f\"${x*24}\")"
   ]
  },
  {
   "cell_type": "code",
   "execution_count": 8,
   "metadata": {},
   "outputs": [
    {
     "data": {
      "text/plain": [
       "0       211.3375211.3375211.3375211.3375211.3375211.33...\n",
       "1       151.55151.55151.55151.55151.55151.55151.55151....\n",
       "2       151.55151.55151.55151.55151.55151.55151.55151....\n",
       "3       151.55151.55151.55151.55151.55151.55151.55151....\n",
       "4       151.55151.55151.55151.55151.55151.55151.55151....\n",
       "                              ...                        \n",
       "1304    14.454214.454214.454214.454214.454214.454214.4...\n",
       "1305    14.454214.454214.454214.454214.454214.454214.4...\n",
       "1306    7.2257.2257.2257.2257.2257.2257.2257.2257.2257...\n",
       "1307    7.2257.2257.2257.2257.2257.2257.2257.2257.2257...\n",
       "1308    7.8757.8757.8757.8757.8757.8757.8757.8757.8757...\n",
       "Name: fare, Length: 1309, dtype: object"
      ]
     },
     "execution_count": 8,
     "metadata": {},
     "output_type": "execute_result"
    }
   ],
   "source": [
    "def currency(num, mult):\n",
    "    return num*mult\n",
    "\n",
    "titanic[\"fare\"].apply(currency, args=(24,))"
   ]
  },
  {
   "cell_type": "code",
   "execution_count": 16,
   "metadata": {},
   "outputs": [
    {
     "name": "stdout",
     "output_type": "stream",
     "text": [
      "<class 'pandas.core.frame.DataFrame'>\n",
      "RangeIndex: 1309 entries, 0 to 1308\n",
      "Data columns (total 3 columns):\n",
      " #   Column    Non-Null Count  Dtype \n",
      "---  ------    --------------  ----- \n",
      " 0   pclass    1309 non-null   int64 \n",
      " 1   survived  1309 non-null   int64 \n",
      " 2   age       1309 non-null   object\n",
      "dtypes: int64(2), object(1)\n",
      "memory usage: 30.8+ KB\n"
     ]
    },
    {
     "name": "stderr",
     "output_type": "stream",
     "text": [
      "C:\\Users\\belac\\AppData\\Local\\Temp\\ipykernel_6696\\3654638475.py:3: SettingWithCopyWarning: \n",
      "A value is trying to be set on a copy of a slice from a DataFrame.\n",
      "Try using .loc[row_indexer,col_indexer] = value instead\n",
      "\n",
      "See the caveats in the documentation: https://pandas.pydata.org/pandas-docs/stable/user_guide/indexing.html#returning-a-view-versus-a-copy\n",
      "  df[\"age\"] = pd.to_numeric(df[\"age\"], errors='coerce')\n"
     ]
    }
   ],
   "source": [
    "df = titanic[[\"pclass\", \"survived\", \"age\"]]\n",
    "df.info()\n",
    "df[\"age\"] = pd.to_numeric(df[\"age\"], errors='coerce')"
   ]
  },
  {
   "cell_type": "code",
   "execution_count": 17,
   "metadata": {},
   "outputs": [
    {
     "data": {
      "text/plain": [
       "pclass       2.0000\n",
       "survived     1.0000\n",
       "age         79.8333\n",
       "dtype: float64"
      ]
     },
     "execution_count": 17,
     "metadata": {},
     "output_type": "execute_result"
    }
   ],
   "source": [
    "df.apply(lambda x: x.max()-x.min())"
   ]
  },
  {
   "cell_type": "code",
   "execution_count": 18,
   "metadata": {},
   "outputs": [
    {
     "data": {
      "text/plain": [
       "0       28.0000\n",
       "1        0.0833\n",
       "2        2.0000\n",
       "3       30.0000\n",
       "4       25.0000\n",
       "         ...   \n",
       "1304    14.5000\n",
       "1305     3.0000\n",
       "1306    26.5000\n",
       "1307    27.0000\n",
       "1308    29.0000\n",
       "Length: 1309, dtype: float64"
      ]
     },
     "execution_count": 18,
     "metadata": {},
     "output_type": "execute_result"
    }
   ],
   "source": [
    "df.apply(lambda x: x.max()-x.min(), axis=1)"
   ]
  },
  {
   "cell_type": "code",
   "execution_count": 20,
   "metadata": {},
   "outputs": [
    {
     "data": {
      "text/plain": [
       "0       1st\n",
       "1       1st\n",
       "2       1st\n",
       "3       1st\n",
       "4       1st\n",
       "       ... \n",
       "1304    3rd\n",
       "1305    3rd\n",
       "1306    3rd\n",
       "1307    3rd\n",
       "1308    3rd\n",
       "Name: pclass, Length: 1309, dtype: object"
      ]
     },
     "execution_count": 20,
     "metadata": {},
     "output_type": "execute_result"
    }
   ],
   "source": [
    "titanic[\"pclass\"].map({1:\"1st\", 2:\"2nd\", 3:\"3rd\"})"
   ]
  },
  {
   "cell_type": "code",
   "execution_count": 23,
   "metadata": {},
   "outputs": [
    {
     "data": {
      "text/plain": [
       "0       False\n",
       "1        True\n",
       "2        True\n",
       "3       False\n",
       "4       False\n",
       "        ...  \n",
       "1304     True\n",
       "1305    False\n",
       "1306    False\n",
       "1307    False\n",
       "1308    False\n",
       "Name: age, Length: 1309, dtype: bool"
      ]
     },
     "execution_count": 23,
     "metadata": {},
     "output_type": "execute_result"
    }
   ],
   "source": [
    "df[\"age\"].map(lambda x: x <= 18)"
   ]
  },
  {
   "cell_type": "code",
   "execution_count": null,
   "metadata": {},
   "outputs": [],
   "source": []
  }
 ],
 "metadata": {
  "kernelspec": {
   "display_name": "venv",
   "language": "python",
   "name": "python3"
  },
  "language_info": {
   "codemirror_mode": {
    "name": "ipython",
    "version": 3
   },
   "file_extension": ".py",
   "mimetype": "text/x-python",
   "name": "python",
   "nbconvert_exporter": "python",
   "pygments_lexer": "ipython3",
   "version": "3.12.8"
  }
 },
 "nbformat": 4,
 "nbformat_minor": 2
}
