{
 "cells": [
  {
   "cell_type": "markdown",
   "metadata": {},
   "source": [
    "# Working with dates and time"
   ]
  },
  {
   "cell_type": "markdown",
   "metadata": {},
   "source": [
    "## date time\n",
    "pd.to_datetime(\"2019-12-31\")\n",
    "pd.to_datetime(\"2019/12/31\")\n",
    "pd.to_datetime(\"December 31st 2019\")\n",
    "pd.to_datetime(\"December 31st 2019 4pm\")\n",
    "pd.to_datetime(\"December 31st 2019 4:50am\")\n",
    "pd.to_datetime(\"Dec. 31st 2019\")\n",
    "pd.to_datetime(\"3:55:45 Apr. 2nd 90\")\n",
    "pd.to_datetime(\"10/11/12\", dayfirst=True)\n",
    "pd.to_datetime(\"10/11/12\", yearfirst=True, dayfirst=True)\n",
    "pd.to_datetime(\"10/11/12\", format=\"%y/%m/%d\")\n",
    "pd.to_datetime([\"Dec 11 2019 Meeting\", \"Jan 24 2024 Meeting\"], format=\"%b %d %Y Meeting\")\n",
    "vc tb pode passar uma serie, ja tem como deixar definido o que é data no read csv usando o parse dates"
   ]
  },
  {
   "cell_type": "code",
   "execution_count": 31,
   "metadata": {},
   "outputs": [],
   "source": [
    "import pandas as pd"
   ]
  },
  {
   "cell_type": "code",
   "execution_count": 32,
   "metadata": {},
   "outputs": [
    {
     "data": {
      "text/plain": [
       "Timestamp('2019-12-31 00:00:00')"
      ]
     },
     "execution_count": 32,
     "metadata": {},
     "output_type": "execute_result"
    }
   ],
   "source": [
    "pd.to_datetime(\"2019-12-31\")"
   ]
  },
  {
   "cell_type": "code",
   "execution_count": 33,
   "metadata": {},
   "outputs": [
    {
     "data": {
      "text/plain": [
       "Timestamp('2019-12-31 00:00:00')"
      ]
     },
     "execution_count": 33,
     "metadata": {},
     "output_type": "execute_result"
    }
   ],
   "source": [
    "pd.to_datetime(\"2019/12/31\")"
   ]
  },
  {
   "cell_type": "code",
   "execution_count": 34,
   "metadata": {},
   "outputs": [
    {
     "data": {
      "text/plain": [
       "Timestamp('2019-12-31 00:00:00')"
      ]
     },
     "execution_count": 34,
     "metadata": {},
     "output_type": "execute_result"
    }
   ],
   "source": [
    "pd.to_datetime(\"December 31st 2019\")"
   ]
  },
  {
   "cell_type": "code",
   "execution_count": 35,
   "metadata": {},
   "outputs": [
    {
     "data": {
      "text/plain": [
       "Timestamp('2019-12-31 16:00:00')"
      ]
     },
     "execution_count": 35,
     "metadata": {},
     "output_type": "execute_result"
    }
   ],
   "source": [
    "pd.to_datetime(\"December 31st 2019 4pm\")"
   ]
  },
  {
   "cell_type": "code",
   "execution_count": 36,
   "metadata": {},
   "outputs": [
    {
     "data": {
      "text/plain": [
       "Timestamp('2019-12-31 04:50:00')"
      ]
     },
     "execution_count": 36,
     "metadata": {},
     "output_type": "execute_result"
    }
   ],
   "source": [
    "pd.to_datetime(\"December 31st 2019 4:50am\")"
   ]
  },
  {
   "cell_type": "code",
   "execution_count": 37,
   "metadata": {},
   "outputs": [
    {
     "data": {
      "text/plain": [
       "Timestamp('2019-12-31 00:00:00')"
      ]
     },
     "execution_count": 37,
     "metadata": {},
     "output_type": "execute_result"
    }
   ],
   "source": [
    "pd.to_datetime(\"Dec. 31st 2019\")"
   ]
  },
  {
   "cell_type": "code",
   "execution_count": 38,
   "metadata": {},
   "outputs": [
    {
     "data": {
      "text/plain": [
       "Timestamp('1990-04-02 03:55:45')"
      ]
     },
     "execution_count": 38,
     "metadata": {},
     "output_type": "execute_result"
    }
   ],
   "source": [
    "pd.to_datetime(\"3:55:45 Apr. 2nd 90\")"
   ]
  },
  {
   "cell_type": "code",
   "execution_count": 39,
   "metadata": {},
   "outputs": [
    {
     "data": {
      "text/plain": [
       "Timestamp('2012-11-10 00:00:00')"
      ]
     },
     "execution_count": 39,
     "metadata": {},
     "output_type": "execute_result"
    }
   ],
   "source": [
    "pd.to_datetime(\"10/11/12\", dayfirst=True)"
   ]
  },
  {
   "cell_type": "code",
   "execution_count": 40,
   "metadata": {},
   "outputs": [
    {
     "data": {
      "text/plain": [
       "Timestamp('2010-12-11 00:00:00')"
      ]
     },
     "execution_count": 40,
     "metadata": {},
     "output_type": "execute_result"
    }
   ],
   "source": [
    "pd.to_datetime(\"10/11/12\", yearfirst=True, dayfirst=True)"
   ]
  },
  {
   "cell_type": "code",
   "execution_count": 41,
   "metadata": {},
   "outputs": [
    {
     "data": {
      "text/plain": [
       "Timestamp('2010-11-12 00:00:00')"
      ]
     },
     "execution_count": 41,
     "metadata": {},
     "output_type": "execute_result"
    }
   ],
   "source": [
    "pd.to_datetime(\"10/11/12\", format=\"%y/%m/%d\")"
   ]
  },
  {
   "cell_type": "code",
   "execution_count": 42,
   "metadata": {},
   "outputs": [
    {
     "data": {
      "text/plain": [
       "DatetimeIndex(['2019-12-11', '2024-01-24'], dtype='datetime64[ns]', freq=None)"
      ]
     },
     "execution_count": 42,
     "metadata": {},
     "output_type": "execute_result"
    }
   ],
   "source": [
    "pd.to_datetime([\"Dec 11 2019 Meeting\", \"Jan 24 2024 Meeting\"], format=\"%b %d %Y Meeting\")"
   ]
  },
  {
   "cell_type": "code",
   "execution_count": 45,
   "metadata": {},
   "outputs": [
    {
     "data": {
      "text/html": [
       "<div>\n",
       "<style scoped>\n",
       "    .dataframe tbody tr th:only-of-type {\n",
       "        vertical-align: middle;\n",
       "    }\n",
       "\n",
       "    .dataframe tbody tr th {\n",
       "        vertical-align: top;\n",
       "    }\n",
       "\n",
       "    .dataframe thead th {\n",
       "        text-align: right;\n",
       "    }\n",
       "</style>\n",
       "<table border=\"1\" class=\"dataframe\">\n",
       "  <thead>\n",
       "    <tr style=\"text-align: right;\">\n",
       "      <th></th>\n",
       "      <th>summary</th>\n",
       "      <th>city</th>\n",
       "      <th>state</th>\n",
       "      <th>date_time</th>\n",
       "      <th>shape</th>\n",
       "      <th>duration</th>\n",
       "      <th>stats</th>\n",
       "      <th>report_link</th>\n",
       "      <th>text</th>\n",
       "      <th>posted</th>\n",
       "      <th>city_latitude</th>\n",
       "      <th>city_longitude</th>\n",
       "    </tr>\n",
       "  </thead>\n",
       "  <tbody>\n",
       "    <tr>\n",
       "      <th>0</th>\n",
       "      <td>My wife was driving southeast on a fairly popu...</td>\n",
       "      <td>Chester</td>\n",
       "      <td>VA</td>\n",
       "      <td>2019-12-12T18:43:00</td>\n",
       "      <td>light</td>\n",
       "      <td>5 seconds</td>\n",
       "      <td>Occurred : 12/12/2019 18:43  (Entered as : 12/...</td>\n",
       "      <td>http://www.nuforc.org/webreports/151/S151739.html</td>\n",
       "      <td>My wife was driving southeast on a fairly popu...</td>\n",
       "      <td>2019-12-22T00:00:00</td>\n",
       "      <td>37.343152</td>\n",
       "      <td>-77.408582</td>\n",
       "    </tr>\n",
       "    <tr>\n",
       "      <th>1</th>\n",
       "      <td>I think that I may caught a UFO on the NBC Nig...</td>\n",
       "      <td>Rocky Hill</td>\n",
       "      <td>CT</td>\n",
       "      <td>2019-03-22T18:30:00</td>\n",
       "      <td>circle</td>\n",
       "      <td>3-5 seconds</td>\n",
       "      <td>Occurred : 3/22/2019 18:30  (Entered as : 03/2...</td>\n",
       "      <td>http://www.nuforc.org/webreports/145/S145297.html</td>\n",
       "      <td>I think that I may caught a UFO on the NBC Nig...</td>\n",
       "      <td>2019-03-29T00:00:00</td>\n",
       "      <td>41.664800</td>\n",
       "      <td>-72.639300</td>\n",
       "    </tr>\n",
       "    <tr>\n",
       "      <th>2</th>\n",
       "      <td>I woke up late in the afternoon 3:30-4pm. I we...</td>\n",
       "      <td>NaN</td>\n",
       "      <td>NaN</td>\n",
       "      <td>NaN</td>\n",
       "      <td>NaN</td>\n",
       "      <td>NaN</td>\n",
       "      <td>Occurred : 4/1/2019 15:45  (Entered as : April...</td>\n",
       "      <td>http://www.nuforc.org/webreports/145/S145556.html</td>\n",
       "      <td>I woke up late in the afternoon 3:30-4pm.  I w...</td>\n",
       "      <td>NaN</td>\n",
       "      <td>NaN</td>\n",
       "      <td>NaN</td>\n",
       "    </tr>\n",
       "    <tr>\n",
       "      <th>3</th>\n",
       "      <td>I was driving towards the intersection of fall...</td>\n",
       "      <td>Ottawa</td>\n",
       "      <td>ON</td>\n",
       "      <td>2019-04-17T02:00:00</td>\n",
       "      <td>teardrop</td>\n",
       "      <td>10 seconds</td>\n",
       "      <td>Occurred : 4/17/2019 02:00  (Entered as : 04-1...</td>\n",
       "      <td>http://www.nuforc.org/webreports/145/S145697.html</td>\n",
       "      <td>I was driving towards the intersection of fall...</td>\n",
       "      <td>2019-04-18T00:00:00</td>\n",
       "      <td>45.381383</td>\n",
       "      <td>-75.708501</td>\n",
       "    </tr>\n",
       "    <tr>\n",
       "      <th>4</th>\n",
       "      <td>In Peoria Arizona, I saw a cigar shaped craft ...</td>\n",
       "      <td>Peoria</td>\n",
       "      <td>NY</td>\n",
       "      <td>2009-03-15T18:00:00</td>\n",
       "      <td>cigar</td>\n",
       "      <td>2 minutes</td>\n",
       "      <td>Occurred : 3/15/2009 18:00  (Entered as : 03/1...</td>\n",
       "      <td>http://www.nuforc.org/webreports/145/S145723.html</td>\n",
       "      <td>In Peoria, Arizona, I saw a cigar shaped craft...</td>\n",
       "      <td>2019-04-18T00:00:00</td>\n",
       "      <td>NaN</td>\n",
       "      <td>NaN</td>\n",
       "    </tr>\n",
       "    <tr>\n",
       "      <th>...</th>\n",
       "      <td>...</td>\n",
       "      <td>...</td>\n",
       "      <td>...</td>\n",
       "      <td>...</td>\n",
       "      <td>...</td>\n",
       "      <td>...</td>\n",
       "      <td>...</td>\n",
       "      <td>...</td>\n",
       "      <td>...</td>\n",
       "      <td>...</td>\n",
       "      <td>...</td>\n",
       "      <td>...</td>\n",
       "    </tr>\n",
       "    <tr>\n",
       "      <th>88120</th>\n",
       "      <td>4 lights in formation over Tempe appear while ...</td>\n",
       "      <td>Tempe</td>\n",
       "      <td>AZ</td>\n",
       "      <td>2019-10-02T20:00:00</td>\n",
       "      <td>formation</td>\n",
       "      <td>3 minutes</td>\n",
       "      <td>Occurred : 10/2/2019 20:00  (Entered as : 10/2...</td>\n",
       "      <td>http://www.nuforc.org/webreports/149/S149463.html</td>\n",
       "      <td>4 lights in formation over Tempe appear while ...</td>\n",
       "      <td>2019-10-04T00:00:00</td>\n",
       "      <td>33.414036</td>\n",
       "      <td>-111.920920</td>\n",
       "    </tr>\n",
       "    <tr>\n",
       "      <th>88121</th>\n",
       "      <td>2 bright star like lights in the NNW skys,  ((...</td>\n",
       "      <td>Bolivar</td>\n",
       "      <td>MO</td>\n",
       "      <td>2019-10-02T20:00:00</td>\n",
       "      <td>light</td>\n",
       "      <td>20 seconds</td>\n",
       "      <td>Occurred : 10/2/2019 20:00  (Entered as : 10/0...</td>\n",
       "      <td>http://www.nuforc.org/webreports/149/S149405.html</td>\n",
       "      <td>2 bright star like lights in the NNW sky two b...</td>\n",
       "      <td>2019-10-04T00:00:00</td>\n",
       "      <td>37.642200</td>\n",
       "      <td>-93.399600</td>\n",
       "    </tr>\n",
       "    <tr>\n",
       "      <th>88122</th>\n",
       "      <td>I just witnessed a ‘Phoenix Lights’ type of fo...</td>\n",
       "      <td>North Port</td>\n",
       "      <td>FL</td>\n",
       "      <td>2019-10-02T20:03:00</td>\n",
       "      <td>formation</td>\n",
       "      <td>20 seconds</td>\n",
       "      <td>Occurred : 10/2/2019 20:03  (Entered as : 10/0...</td>\n",
       "      <td>http://www.nuforc.org/webreports/149/S149424.html</td>\n",
       "      <td>10/2/19 @ 8:03PM EST  UFO SIGHTING in the 3428...</td>\n",
       "      <td>2019-10-04T00:00:00</td>\n",
       "      <td>27.076210</td>\n",
       "      <td>-82.223280</td>\n",
       "    </tr>\n",
       "    <tr>\n",
       "      <th>88123</th>\n",
       "      <td>Witnessed an orange, slow moving light. Was lo...</td>\n",
       "      <td>Black Mountain</td>\n",
       "      <td>NC</td>\n",
       "      <td>2019-10-02T22:00:00</td>\n",
       "      <td>fireball</td>\n",
       "      <td>2 minutes</td>\n",
       "      <td>Occurred : 10/2/2019 22:00  (Entered as : 10/0...</td>\n",
       "      <td>http://www.nuforc.org/webreports/149/S149447.html</td>\n",
       "      <td>Witnessed an orange, slow moving light. Was lo...</td>\n",
       "      <td>2019-10-04T00:00:00</td>\n",
       "      <td>35.605000</td>\n",
       "      <td>-82.313200</td>\n",
       "    </tr>\n",
       "    <tr>\n",
       "      <th>88124</th>\n",
       "      <td>Glowing lights in formation  just south of San...</td>\n",
       "      <td>Marin County</td>\n",
       "      <td>CA</td>\n",
       "      <td>2019-10-02T22:00:00</td>\n",
       "      <td>sphere</td>\n",
       "      <td>3 minutes</td>\n",
       "      <td>Occurred : 10/2/2019 22:00  (Entered as : 10-0...</td>\n",
       "      <td>http://www.nuforc.org/webreports/149/S149436.html</td>\n",
       "      <td>Glowing lights in formation  just south of San...</td>\n",
       "      <td>2019-10-04T00:00:00</td>\n",
       "      <td>NaN</td>\n",
       "      <td>NaN</td>\n",
       "    </tr>\n",
       "  </tbody>\n",
       "</table>\n",
       "<p>88125 rows × 12 columns</p>\n",
       "</div>"
      ],
      "text/plain": [
       "                                                 summary            city  \\\n",
       "0      My wife was driving southeast on a fairly popu...         Chester   \n",
       "1      I think that I may caught a UFO on the NBC Nig...      Rocky Hill   \n",
       "2      I woke up late in the afternoon 3:30-4pm. I we...             NaN   \n",
       "3      I was driving towards the intersection of fall...          Ottawa   \n",
       "4      In Peoria Arizona, I saw a cigar shaped craft ...          Peoria   \n",
       "...                                                  ...             ...   \n",
       "88120  4 lights in formation over Tempe appear while ...           Tempe   \n",
       "88121  2 bright star like lights in the NNW skys,  ((...         Bolivar   \n",
       "88122  I just witnessed a ‘Phoenix Lights’ type of fo...      North Port   \n",
       "88123  Witnessed an orange, slow moving light. Was lo...  Black Mountain   \n",
       "88124  Glowing lights in formation  just south of San...    Marin County   \n",
       "\n",
       "      state            date_time      shape     duration  \\\n",
       "0        VA  2019-12-12T18:43:00      light    5 seconds   \n",
       "1        CT  2019-03-22T18:30:00     circle  3-5 seconds   \n",
       "2       NaN                  NaN        NaN          NaN   \n",
       "3        ON  2019-04-17T02:00:00   teardrop   10 seconds   \n",
       "4        NY  2009-03-15T18:00:00      cigar    2 minutes   \n",
       "...     ...                  ...        ...          ...   \n",
       "88120    AZ  2019-10-02T20:00:00  formation    3 minutes   \n",
       "88121    MO  2019-10-02T20:00:00      light   20 seconds   \n",
       "88122    FL  2019-10-02T20:03:00  formation   20 seconds   \n",
       "88123    NC  2019-10-02T22:00:00   fireball    2 minutes   \n",
       "88124    CA  2019-10-02T22:00:00     sphere    3 minutes   \n",
       "\n",
       "                                                   stats  \\\n",
       "0      Occurred : 12/12/2019 18:43  (Entered as : 12/...   \n",
       "1      Occurred : 3/22/2019 18:30  (Entered as : 03/2...   \n",
       "2      Occurred : 4/1/2019 15:45  (Entered as : April...   \n",
       "3      Occurred : 4/17/2019 02:00  (Entered as : 04-1...   \n",
       "4      Occurred : 3/15/2009 18:00  (Entered as : 03/1...   \n",
       "...                                                  ...   \n",
       "88120  Occurred : 10/2/2019 20:00  (Entered as : 10/2...   \n",
       "88121  Occurred : 10/2/2019 20:00  (Entered as : 10/0...   \n",
       "88122  Occurred : 10/2/2019 20:03  (Entered as : 10/0...   \n",
       "88123  Occurred : 10/2/2019 22:00  (Entered as : 10/0...   \n",
       "88124  Occurred : 10/2/2019 22:00  (Entered as : 10-0...   \n",
       "\n",
       "                                             report_link  \\\n",
       "0      http://www.nuforc.org/webreports/151/S151739.html   \n",
       "1      http://www.nuforc.org/webreports/145/S145297.html   \n",
       "2      http://www.nuforc.org/webreports/145/S145556.html   \n",
       "3      http://www.nuforc.org/webreports/145/S145697.html   \n",
       "4      http://www.nuforc.org/webreports/145/S145723.html   \n",
       "...                                                  ...   \n",
       "88120  http://www.nuforc.org/webreports/149/S149463.html   \n",
       "88121  http://www.nuforc.org/webreports/149/S149405.html   \n",
       "88122  http://www.nuforc.org/webreports/149/S149424.html   \n",
       "88123  http://www.nuforc.org/webreports/149/S149447.html   \n",
       "88124  http://www.nuforc.org/webreports/149/S149436.html   \n",
       "\n",
       "                                                    text               posted  \\\n",
       "0      My wife was driving southeast on a fairly popu...  2019-12-22T00:00:00   \n",
       "1      I think that I may caught a UFO on the NBC Nig...  2019-03-29T00:00:00   \n",
       "2      I woke up late in the afternoon 3:30-4pm.  I w...                  NaN   \n",
       "3      I was driving towards the intersection of fall...  2019-04-18T00:00:00   \n",
       "4      In Peoria, Arizona, I saw a cigar shaped craft...  2019-04-18T00:00:00   \n",
       "...                                                  ...                  ...   \n",
       "88120  4 lights in formation over Tempe appear while ...  2019-10-04T00:00:00   \n",
       "88121  2 bright star like lights in the NNW sky two b...  2019-10-04T00:00:00   \n",
       "88122  10/2/19 @ 8:03PM EST  UFO SIGHTING in the 3428...  2019-10-04T00:00:00   \n",
       "88123  Witnessed an orange, slow moving light. Was lo...  2019-10-04T00:00:00   \n",
       "88124  Glowing lights in formation  just south of San...  2019-10-04T00:00:00   \n",
       "\n",
       "       city_latitude  city_longitude  \n",
       "0          37.343152      -77.408582  \n",
       "1          41.664800      -72.639300  \n",
       "2                NaN             NaN  \n",
       "3          45.381383      -75.708501  \n",
       "4                NaN             NaN  \n",
       "...              ...             ...  \n",
       "88120      33.414036     -111.920920  \n",
       "88121      37.642200      -93.399600  \n",
       "88122      27.076210      -82.223280  \n",
       "88123      35.605000      -82.313200  \n",
       "88124            NaN             NaN  \n",
       "\n",
       "[88125 rows x 12 columns]"
      ]
     },
     "execution_count": 45,
     "metadata": {},
     "output_type": "execute_result"
    }
   ],
   "source": [
    "ufos = pd.read_csv(\"../data/nuforc_reports.csv\")\n",
    "ufos"
   ]
  },
  {
   "cell_type": "code",
   "execution_count": 46,
   "metadata": {},
   "outputs": [
    {
     "data": {
      "text/html": [
       "<div>\n",
       "<style scoped>\n",
       "    .dataframe tbody tr th:only-of-type {\n",
       "        vertical-align: middle;\n",
       "    }\n",
       "\n",
       "    .dataframe tbody tr th {\n",
       "        vertical-align: top;\n",
       "    }\n",
       "\n",
       "    .dataframe thead th {\n",
       "        text-align: right;\n",
       "    }\n",
       "</style>\n",
       "<table border=\"1\" class=\"dataframe\">\n",
       "  <thead>\n",
       "    <tr style=\"text-align: right;\">\n",
       "      <th></th>\n",
       "      <th>summary</th>\n",
       "      <th>city</th>\n",
       "      <th>state</th>\n",
       "      <th>date_time</th>\n",
       "      <th>shape</th>\n",
       "      <th>duration</th>\n",
       "      <th>stats</th>\n",
       "      <th>report_link</th>\n",
       "      <th>text</th>\n",
       "      <th>posted</th>\n",
       "      <th>city_latitude</th>\n",
       "      <th>city_longitude</th>\n",
       "    </tr>\n",
       "  </thead>\n",
       "  <tbody>\n",
       "    <tr>\n",
       "      <th>0</th>\n",
       "      <td>My wife was driving southeast on a fairly popu...</td>\n",
       "      <td>Chester</td>\n",
       "      <td>VA</td>\n",
       "      <td>2019-12-12 18:43:00</td>\n",
       "      <td>light</td>\n",
       "      <td>5 seconds</td>\n",
       "      <td>Occurred : 12/12/2019 18:43  (Entered as : 12/...</td>\n",
       "      <td>http://www.nuforc.org/webreports/151/S151739.html</td>\n",
       "      <td>My wife was driving southeast on a fairly popu...</td>\n",
       "      <td>2019-12-22T00:00:00</td>\n",
       "      <td>37.343152</td>\n",
       "      <td>-77.408582</td>\n",
       "    </tr>\n",
       "    <tr>\n",
       "      <th>1</th>\n",
       "      <td>I think that I may caught a UFO on the NBC Nig...</td>\n",
       "      <td>Rocky Hill</td>\n",
       "      <td>CT</td>\n",
       "      <td>2019-03-22 18:30:00</td>\n",
       "      <td>circle</td>\n",
       "      <td>3-5 seconds</td>\n",
       "      <td>Occurred : 3/22/2019 18:30  (Entered as : 03/2...</td>\n",
       "      <td>http://www.nuforc.org/webreports/145/S145297.html</td>\n",
       "      <td>I think that I may caught a UFO on the NBC Nig...</td>\n",
       "      <td>2019-03-29T00:00:00</td>\n",
       "      <td>41.664800</td>\n",
       "      <td>-72.639300</td>\n",
       "    </tr>\n",
       "    <tr>\n",
       "      <th>2</th>\n",
       "      <td>I woke up late in the afternoon 3:30-4pm. I we...</td>\n",
       "      <td>NaN</td>\n",
       "      <td>NaN</td>\n",
       "      <td>NaT</td>\n",
       "      <td>NaN</td>\n",
       "      <td>NaN</td>\n",
       "      <td>Occurred : 4/1/2019 15:45  (Entered as : April...</td>\n",
       "      <td>http://www.nuforc.org/webreports/145/S145556.html</td>\n",
       "      <td>I woke up late in the afternoon 3:30-4pm.  I w...</td>\n",
       "      <td>NaN</td>\n",
       "      <td>NaN</td>\n",
       "      <td>NaN</td>\n",
       "    </tr>\n",
       "    <tr>\n",
       "      <th>3</th>\n",
       "      <td>I was driving towards the intersection of fall...</td>\n",
       "      <td>Ottawa</td>\n",
       "      <td>ON</td>\n",
       "      <td>2019-04-17 02:00:00</td>\n",
       "      <td>teardrop</td>\n",
       "      <td>10 seconds</td>\n",
       "      <td>Occurred : 4/17/2019 02:00  (Entered as : 04-1...</td>\n",
       "      <td>http://www.nuforc.org/webreports/145/S145697.html</td>\n",
       "      <td>I was driving towards the intersection of fall...</td>\n",
       "      <td>2019-04-18T00:00:00</td>\n",
       "      <td>45.381383</td>\n",
       "      <td>-75.708501</td>\n",
       "    </tr>\n",
       "    <tr>\n",
       "      <th>4</th>\n",
       "      <td>In Peoria Arizona, I saw a cigar shaped craft ...</td>\n",
       "      <td>Peoria</td>\n",
       "      <td>NY</td>\n",
       "      <td>2009-03-15 18:00:00</td>\n",
       "      <td>cigar</td>\n",
       "      <td>2 minutes</td>\n",
       "      <td>Occurred : 3/15/2009 18:00  (Entered as : 03/1...</td>\n",
       "      <td>http://www.nuforc.org/webreports/145/S145723.html</td>\n",
       "      <td>In Peoria, Arizona, I saw a cigar shaped craft...</td>\n",
       "      <td>2019-04-18T00:00:00</td>\n",
       "      <td>NaN</td>\n",
       "      <td>NaN</td>\n",
       "    </tr>\n",
       "    <tr>\n",
       "      <th>...</th>\n",
       "      <td>...</td>\n",
       "      <td>...</td>\n",
       "      <td>...</td>\n",
       "      <td>...</td>\n",
       "      <td>...</td>\n",
       "      <td>...</td>\n",
       "      <td>...</td>\n",
       "      <td>...</td>\n",
       "      <td>...</td>\n",
       "      <td>...</td>\n",
       "      <td>...</td>\n",
       "      <td>...</td>\n",
       "    </tr>\n",
       "    <tr>\n",
       "      <th>88120</th>\n",
       "      <td>4 lights in formation over Tempe appear while ...</td>\n",
       "      <td>Tempe</td>\n",
       "      <td>AZ</td>\n",
       "      <td>2019-10-02 20:00:00</td>\n",
       "      <td>formation</td>\n",
       "      <td>3 minutes</td>\n",
       "      <td>Occurred : 10/2/2019 20:00  (Entered as : 10/2...</td>\n",
       "      <td>http://www.nuforc.org/webreports/149/S149463.html</td>\n",
       "      <td>4 lights in formation over Tempe appear while ...</td>\n",
       "      <td>2019-10-04T00:00:00</td>\n",
       "      <td>33.414036</td>\n",
       "      <td>-111.920920</td>\n",
       "    </tr>\n",
       "    <tr>\n",
       "      <th>88121</th>\n",
       "      <td>2 bright star like lights in the NNW skys,  ((...</td>\n",
       "      <td>Bolivar</td>\n",
       "      <td>MO</td>\n",
       "      <td>2019-10-02 20:00:00</td>\n",
       "      <td>light</td>\n",
       "      <td>20 seconds</td>\n",
       "      <td>Occurred : 10/2/2019 20:00  (Entered as : 10/0...</td>\n",
       "      <td>http://www.nuforc.org/webreports/149/S149405.html</td>\n",
       "      <td>2 bright star like lights in the NNW sky two b...</td>\n",
       "      <td>2019-10-04T00:00:00</td>\n",
       "      <td>37.642200</td>\n",
       "      <td>-93.399600</td>\n",
       "    </tr>\n",
       "    <tr>\n",
       "      <th>88122</th>\n",
       "      <td>I just witnessed a ‘Phoenix Lights’ type of fo...</td>\n",
       "      <td>North Port</td>\n",
       "      <td>FL</td>\n",
       "      <td>2019-10-02 20:03:00</td>\n",
       "      <td>formation</td>\n",
       "      <td>20 seconds</td>\n",
       "      <td>Occurred : 10/2/2019 20:03  (Entered as : 10/0...</td>\n",
       "      <td>http://www.nuforc.org/webreports/149/S149424.html</td>\n",
       "      <td>10/2/19 @ 8:03PM EST  UFO SIGHTING in the 3428...</td>\n",
       "      <td>2019-10-04T00:00:00</td>\n",
       "      <td>27.076210</td>\n",
       "      <td>-82.223280</td>\n",
       "    </tr>\n",
       "    <tr>\n",
       "      <th>88123</th>\n",
       "      <td>Witnessed an orange, slow moving light. Was lo...</td>\n",
       "      <td>Black Mountain</td>\n",
       "      <td>NC</td>\n",
       "      <td>2019-10-02 22:00:00</td>\n",
       "      <td>fireball</td>\n",
       "      <td>2 minutes</td>\n",
       "      <td>Occurred : 10/2/2019 22:00  (Entered as : 10/0...</td>\n",
       "      <td>http://www.nuforc.org/webreports/149/S149447.html</td>\n",
       "      <td>Witnessed an orange, slow moving light. Was lo...</td>\n",
       "      <td>2019-10-04T00:00:00</td>\n",
       "      <td>35.605000</td>\n",
       "      <td>-82.313200</td>\n",
       "    </tr>\n",
       "    <tr>\n",
       "      <th>88124</th>\n",
       "      <td>Glowing lights in formation  just south of San...</td>\n",
       "      <td>Marin County</td>\n",
       "      <td>CA</td>\n",
       "      <td>2019-10-02 22:00:00</td>\n",
       "      <td>sphere</td>\n",
       "      <td>3 minutes</td>\n",
       "      <td>Occurred : 10/2/2019 22:00  (Entered as : 10-0...</td>\n",
       "      <td>http://www.nuforc.org/webreports/149/S149436.html</td>\n",
       "      <td>Glowing lights in formation  just south of San...</td>\n",
       "      <td>2019-10-04T00:00:00</td>\n",
       "      <td>NaN</td>\n",
       "      <td>NaN</td>\n",
       "    </tr>\n",
       "  </tbody>\n",
       "</table>\n",
       "<p>88125 rows × 12 columns</p>\n",
       "</div>"
      ],
      "text/plain": [
       "                                                 summary            city  \\\n",
       "0      My wife was driving southeast on a fairly popu...         Chester   \n",
       "1      I think that I may caught a UFO on the NBC Nig...      Rocky Hill   \n",
       "2      I woke up late in the afternoon 3:30-4pm. I we...             NaN   \n",
       "3      I was driving towards the intersection of fall...          Ottawa   \n",
       "4      In Peoria Arizona, I saw a cigar shaped craft ...          Peoria   \n",
       "...                                                  ...             ...   \n",
       "88120  4 lights in formation over Tempe appear while ...           Tempe   \n",
       "88121  2 bright star like lights in the NNW skys,  ((...         Bolivar   \n",
       "88122  I just witnessed a ‘Phoenix Lights’ type of fo...      North Port   \n",
       "88123  Witnessed an orange, slow moving light. Was lo...  Black Mountain   \n",
       "88124  Glowing lights in formation  just south of San...    Marin County   \n",
       "\n",
       "      state           date_time      shape     duration  \\\n",
       "0        VA 2019-12-12 18:43:00      light    5 seconds   \n",
       "1        CT 2019-03-22 18:30:00     circle  3-5 seconds   \n",
       "2       NaN                 NaT        NaN          NaN   \n",
       "3        ON 2019-04-17 02:00:00   teardrop   10 seconds   \n",
       "4        NY 2009-03-15 18:00:00      cigar    2 minutes   \n",
       "...     ...                 ...        ...          ...   \n",
       "88120    AZ 2019-10-02 20:00:00  formation    3 minutes   \n",
       "88121    MO 2019-10-02 20:00:00      light   20 seconds   \n",
       "88122    FL 2019-10-02 20:03:00  formation   20 seconds   \n",
       "88123    NC 2019-10-02 22:00:00   fireball    2 minutes   \n",
       "88124    CA 2019-10-02 22:00:00     sphere    3 minutes   \n",
       "\n",
       "                                                   stats  \\\n",
       "0      Occurred : 12/12/2019 18:43  (Entered as : 12/...   \n",
       "1      Occurred : 3/22/2019 18:30  (Entered as : 03/2...   \n",
       "2      Occurred : 4/1/2019 15:45  (Entered as : April...   \n",
       "3      Occurred : 4/17/2019 02:00  (Entered as : 04-1...   \n",
       "4      Occurred : 3/15/2009 18:00  (Entered as : 03/1...   \n",
       "...                                                  ...   \n",
       "88120  Occurred : 10/2/2019 20:00  (Entered as : 10/2...   \n",
       "88121  Occurred : 10/2/2019 20:00  (Entered as : 10/0...   \n",
       "88122  Occurred : 10/2/2019 20:03  (Entered as : 10/0...   \n",
       "88123  Occurred : 10/2/2019 22:00  (Entered as : 10/0...   \n",
       "88124  Occurred : 10/2/2019 22:00  (Entered as : 10-0...   \n",
       "\n",
       "                                             report_link  \\\n",
       "0      http://www.nuforc.org/webreports/151/S151739.html   \n",
       "1      http://www.nuforc.org/webreports/145/S145297.html   \n",
       "2      http://www.nuforc.org/webreports/145/S145556.html   \n",
       "3      http://www.nuforc.org/webreports/145/S145697.html   \n",
       "4      http://www.nuforc.org/webreports/145/S145723.html   \n",
       "...                                                  ...   \n",
       "88120  http://www.nuforc.org/webreports/149/S149463.html   \n",
       "88121  http://www.nuforc.org/webreports/149/S149405.html   \n",
       "88122  http://www.nuforc.org/webreports/149/S149424.html   \n",
       "88123  http://www.nuforc.org/webreports/149/S149447.html   \n",
       "88124  http://www.nuforc.org/webreports/149/S149436.html   \n",
       "\n",
       "                                                    text               posted  \\\n",
       "0      My wife was driving southeast on a fairly popu...  2019-12-22T00:00:00   \n",
       "1      I think that I may caught a UFO on the NBC Nig...  2019-03-29T00:00:00   \n",
       "2      I woke up late in the afternoon 3:30-4pm.  I w...                  NaN   \n",
       "3      I was driving towards the intersection of fall...  2019-04-18T00:00:00   \n",
       "4      In Peoria, Arizona, I saw a cigar shaped craft...  2019-04-18T00:00:00   \n",
       "...                                                  ...                  ...   \n",
       "88120  4 lights in formation over Tempe appear while ...  2019-10-04T00:00:00   \n",
       "88121  2 bright star like lights in the NNW sky two b...  2019-10-04T00:00:00   \n",
       "88122  10/2/19 @ 8:03PM EST  UFO SIGHTING in the 3428...  2019-10-04T00:00:00   \n",
       "88123  Witnessed an orange, slow moving light. Was lo...  2019-10-04T00:00:00   \n",
       "88124  Glowing lights in formation  just south of San...  2019-10-04T00:00:00   \n",
       "\n",
       "       city_latitude  city_longitude  \n",
       "0          37.343152      -77.408582  \n",
       "1          41.664800      -72.639300  \n",
       "2                NaN             NaN  \n",
       "3          45.381383      -75.708501  \n",
       "4                NaN             NaN  \n",
       "...              ...             ...  \n",
       "88120      33.414036     -111.920920  \n",
       "88121      37.642200      -93.399600  \n",
       "88122      27.076210      -82.223280  \n",
       "88123      35.605000      -82.313200  \n",
       "88124            NaN             NaN  \n",
       "\n",
       "[88125 rows x 12 columns]"
      ]
     },
     "execution_count": 46,
     "metadata": {},
     "output_type": "execute_result"
    }
   ],
   "source": [
    "ufos[\"date_time\"] = pd.to_datetime(ufos[\"date_time\"])\n",
    "ufos"
   ]
  },
  {
   "cell_type": "code",
   "execution_count": 47,
   "metadata": {},
   "outputs": [
    {
     "data": {
      "text/html": [
       "<div>\n",
       "<style scoped>\n",
       "    .dataframe tbody tr th:only-of-type {\n",
       "        vertical-align: middle;\n",
       "    }\n",
       "\n",
       "    .dataframe tbody tr th {\n",
       "        vertical-align: top;\n",
       "    }\n",
       "\n",
       "    .dataframe thead th {\n",
       "        text-align: right;\n",
       "    }\n",
       "</style>\n",
       "<table border=\"1\" class=\"dataframe\">\n",
       "  <thead>\n",
       "    <tr style=\"text-align: right;\">\n",
       "      <th></th>\n",
       "      <th>summary</th>\n",
       "      <th>city</th>\n",
       "      <th>state</th>\n",
       "      <th>date_time</th>\n",
       "      <th>shape</th>\n",
       "      <th>duration</th>\n",
       "      <th>stats</th>\n",
       "      <th>report_link</th>\n",
       "      <th>text</th>\n",
       "      <th>posted</th>\n",
       "      <th>city_latitude</th>\n",
       "      <th>city_longitude</th>\n",
       "    </tr>\n",
       "  </thead>\n",
       "  <tbody>\n",
       "    <tr>\n",
       "      <th>0</th>\n",
       "      <td>My wife was driving southeast on a fairly popu...</td>\n",
       "      <td>Chester</td>\n",
       "      <td>VA</td>\n",
       "      <td>2019-12-12 18:43:00</td>\n",
       "      <td>light</td>\n",
       "      <td>5 seconds</td>\n",
       "      <td>Occurred : 12/12/2019 18:43  (Entered as : 12/...</td>\n",
       "      <td>http://www.nuforc.org/webreports/151/S151739.html</td>\n",
       "      <td>My wife was driving southeast on a fairly popu...</td>\n",
       "      <td>2019-12-22T00:00:00</td>\n",
       "      <td>37.343152</td>\n",
       "      <td>-77.408582</td>\n",
       "    </tr>\n",
       "    <tr>\n",
       "      <th>1</th>\n",
       "      <td>I think that I may caught a UFO on the NBC Nig...</td>\n",
       "      <td>Rocky Hill</td>\n",
       "      <td>CT</td>\n",
       "      <td>2019-03-22 18:30:00</td>\n",
       "      <td>circle</td>\n",
       "      <td>3-5 seconds</td>\n",
       "      <td>Occurred : 3/22/2019 18:30  (Entered as : 03/2...</td>\n",
       "      <td>http://www.nuforc.org/webreports/145/S145297.html</td>\n",
       "      <td>I think that I may caught a UFO on the NBC Nig...</td>\n",
       "      <td>2019-03-29T00:00:00</td>\n",
       "      <td>41.664800</td>\n",
       "      <td>-72.639300</td>\n",
       "    </tr>\n",
       "    <tr>\n",
       "      <th>2</th>\n",
       "      <td>I woke up late in the afternoon 3:30-4pm. I we...</td>\n",
       "      <td>NaN</td>\n",
       "      <td>NaN</td>\n",
       "      <td>NaT</td>\n",
       "      <td>NaN</td>\n",
       "      <td>NaN</td>\n",
       "      <td>Occurred : 4/1/2019 15:45  (Entered as : April...</td>\n",
       "      <td>http://www.nuforc.org/webreports/145/S145556.html</td>\n",
       "      <td>I woke up late in the afternoon 3:30-4pm.  I w...</td>\n",
       "      <td>NaN</td>\n",
       "      <td>NaN</td>\n",
       "      <td>NaN</td>\n",
       "    </tr>\n",
       "    <tr>\n",
       "      <th>3</th>\n",
       "      <td>I was driving towards the intersection of fall...</td>\n",
       "      <td>Ottawa</td>\n",
       "      <td>ON</td>\n",
       "      <td>2019-04-17 02:00:00</td>\n",
       "      <td>teardrop</td>\n",
       "      <td>10 seconds</td>\n",
       "      <td>Occurred : 4/17/2019 02:00  (Entered as : 04-1...</td>\n",
       "      <td>http://www.nuforc.org/webreports/145/S145697.html</td>\n",
       "      <td>I was driving towards the intersection of fall...</td>\n",
       "      <td>2019-04-18T00:00:00</td>\n",
       "      <td>45.381383</td>\n",
       "      <td>-75.708501</td>\n",
       "    </tr>\n",
       "    <tr>\n",
       "      <th>4</th>\n",
       "      <td>In Peoria Arizona, I saw a cigar shaped craft ...</td>\n",
       "      <td>Peoria</td>\n",
       "      <td>NY</td>\n",
       "      <td>2009-03-15 18:00:00</td>\n",
       "      <td>cigar</td>\n",
       "      <td>2 minutes</td>\n",
       "      <td>Occurred : 3/15/2009 18:00  (Entered as : 03/1...</td>\n",
       "      <td>http://www.nuforc.org/webreports/145/S145723.html</td>\n",
       "      <td>In Peoria, Arizona, I saw a cigar shaped craft...</td>\n",
       "      <td>2019-04-18T00:00:00</td>\n",
       "      <td>NaN</td>\n",
       "      <td>NaN</td>\n",
       "    </tr>\n",
       "    <tr>\n",
       "      <th>...</th>\n",
       "      <td>...</td>\n",
       "      <td>...</td>\n",
       "      <td>...</td>\n",
       "      <td>...</td>\n",
       "      <td>...</td>\n",
       "      <td>...</td>\n",
       "      <td>...</td>\n",
       "      <td>...</td>\n",
       "      <td>...</td>\n",
       "      <td>...</td>\n",
       "      <td>...</td>\n",
       "      <td>...</td>\n",
       "    </tr>\n",
       "    <tr>\n",
       "      <th>88120</th>\n",
       "      <td>4 lights in formation over Tempe appear while ...</td>\n",
       "      <td>Tempe</td>\n",
       "      <td>AZ</td>\n",
       "      <td>2019-10-02 20:00:00</td>\n",
       "      <td>formation</td>\n",
       "      <td>3 minutes</td>\n",
       "      <td>Occurred : 10/2/2019 20:00  (Entered as : 10/2...</td>\n",
       "      <td>http://www.nuforc.org/webreports/149/S149463.html</td>\n",
       "      <td>4 lights in formation over Tempe appear while ...</td>\n",
       "      <td>2019-10-04T00:00:00</td>\n",
       "      <td>33.414036</td>\n",
       "      <td>-111.920920</td>\n",
       "    </tr>\n",
       "    <tr>\n",
       "      <th>88121</th>\n",
       "      <td>2 bright star like lights in the NNW skys,  ((...</td>\n",
       "      <td>Bolivar</td>\n",
       "      <td>MO</td>\n",
       "      <td>2019-10-02 20:00:00</td>\n",
       "      <td>light</td>\n",
       "      <td>20 seconds</td>\n",
       "      <td>Occurred : 10/2/2019 20:00  (Entered as : 10/0...</td>\n",
       "      <td>http://www.nuforc.org/webreports/149/S149405.html</td>\n",
       "      <td>2 bright star like lights in the NNW sky two b...</td>\n",
       "      <td>2019-10-04T00:00:00</td>\n",
       "      <td>37.642200</td>\n",
       "      <td>-93.399600</td>\n",
       "    </tr>\n",
       "    <tr>\n",
       "      <th>88122</th>\n",
       "      <td>I just witnessed a ‘Phoenix Lights’ type of fo...</td>\n",
       "      <td>North Port</td>\n",
       "      <td>FL</td>\n",
       "      <td>2019-10-02 20:03:00</td>\n",
       "      <td>formation</td>\n",
       "      <td>20 seconds</td>\n",
       "      <td>Occurred : 10/2/2019 20:03  (Entered as : 10/0...</td>\n",
       "      <td>http://www.nuforc.org/webreports/149/S149424.html</td>\n",
       "      <td>10/2/19 @ 8:03PM EST  UFO SIGHTING in the 3428...</td>\n",
       "      <td>2019-10-04T00:00:00</td>\n",
       "      <td>27.076210</td>\n",
       "      <td>-82.223280</td>\n",
       "    </tr>\n",
       "    <tr>\n",
       "      <th>88123</th>\n",
       "      <td>Witnessed an orange, slow moving light. Was lo...</td>\n",
       "      <td>Black Mountain</td>\n",
       "      <td>NC</td>\n",
       "      <td>2019-10-02 22:00:00</td>\n",
       "      <td>fireball</td>\n",
       "      <td>2 minutes</td>\n",
       "      <td>Occurred : 10/2/2019 22:00  (Entered as : 10/0...</td>\n",
       "      <td>http://www.nuforc.org/webreports/149/S149447.html</td>\n",
       "      <td>Witnessed an orange, slow moving light. Was lo...</td>\n",
       "      <td>2019-10-04T00:00:00</td>\n",
       "      <td>35.605000</td>\n",
       "      <td>-82.313200</td>\n",
       "    </tr>\n",
       "    <tr>\n",
       "      <th>88124</th>\n",
       "      <td>Glowing lights in formation  just south of San...</td>\n",
       "      <td>Marin County</td>\n",
       "      <td>CA</td>\n",
       "      <td>2019-10-02 22:00:00</td>\n",
       "      <td>sphere</td>\n",
       "      <td>3 minutes</td>\n",
       "      <td>Occurred : 10/2/2019 22:00  (Entered as : 10-0...</td>\n",
       "      <td>http://www.nuforc.org/webreports/149/S149436.html</td>\n",
       "      <td>Glowing lights in formation  just south of San...</td>\n",
       "      <td>2019-10-04T00:00:00</td>\n",
       "      <td>NaN</td>\n",
       "      <td>NaN</td>\n",
       "    </tr>\n",
       "  </tbody>\n",
       "</table>\n",
       "<p>88125 rows × 12 columns</p>\n",
       "</div>"
      ],
      "text/plain": [
       "                                                 summary            city  \\\n",
       "0      My wife was driving southeast on a fairly popu...         Chester   \n",
       "1      I think that I may caught a UFO on the NBC Nig...      Rocky Hill   \n",
       "2      I woke up late in the afternoon 3:30-4pm. I we...             NaN   \n",
       "3      I was driving towards the intersection of fall...          Ottawa   \n",
       "4      In Peoria Arizona, I saw a cigar shaped craft ...          Peoria   \n",
       "...                                                  ...             ...   \n",
       "88120  4 lights in formation over Tempe appear while ...           Tempe   \n",
       "88121  2 bright star like lights in the NNW skys,  ((...         Bolivar   \n",
       "88122  I just witnessed a ‘Phoenix Lights’ type of fo...      North Port   \n",
       "88123  Witnessed an orange, slow moving light. Was lo...  Black Mountain   \n",
       "88124  Glowing lights in formation  just south of San...    Marin County   \n",
       "\n",
       "      state           date_time      shape     duration  \\\n",
       "0        VA 2019-12-12 18:43:00      light    5 seconds   \n",
       "1        CT 2019-03-22 18:30:00     circle  3-5 seconds   \n",
       "2       NaN                 NaT        NaN          NaN   \n",
       "3        ON 2019-04-17 02:00:00   teardrop   10 seconds   \n",
       "4        NY 2009-03-15 18:00:00      cigar    2 minutes   \n",
       "...     ...                 ...        ...          ...   \n",
       "88120    AZ 2019-10-02 20:00:00  formation    3 minutes   \n",
       "88121    MO 2019-10-02 20:00:00      light   20 seconds   \n",
       "88122    FL 2019-10-02 20:03:00  formation   20 seconds   \n",
       "88123    NC 2019-10-02 22:00:00   fireball    2 minutes   \n",
       "88124    CA 2019-10-02 22:00:00     sphere    3 minutes   \n",
       "\n",
       "                                                   stats  \\\n",
       "0      Occurred : 12/12/2019 18:43  (Entered as : 12/...   \n",
       "1      Occurred : 3/22/2019 18:30  (Entered as : 03/2...   \n",
       "2      Occurred : 4/1/2019 15:45  (Entered as : April...   \n",
       "3      Occurred : 4/17/2019 02:00  (Entered as : 04-1...   \n",
       "4      Occurred : 3/15/2009 18:00  (Entered as : 03/1...   \n",
       "...                                                  ...   \n",
       "88120  Occurred : 10/2/2019 20:00  (Entered as : 10/2...   \n",
       "88121  Occurred : 10/2/2019 20:00  (Entered as : 10/0...   \n",
       "88122  Occurred : 10/2/2019 20:03  (Entered as : 10/0...   \n",
       "88123  Occurred : 10/2/2019 22:00  (Entered as : 10/0...   \n",
       "88124  Occurred : 10/2/2019 22:00  (Entered as : 10-0...   \n",
       "\n",
       "                                             report_link  \\\n",
       "0      http://www.nuforc.org/webreports/151/S151739.html   \n",
       "1      http://www.nuforc.org/webreports/145/S145297.html   \n",
       "2      http://www.nuforc.org/webreports/145/S145556.html   \n",
       "3      http://www.nuforc.org/webreports/145/S145697.html   \n",
       "4      http://www.nuforc.org/webreports/145/S145723.html   \n",
       "...                                                  ...   \n",
       "88120  http://www.nuforc.org/webreports/149/S149463.html   \n",
       "88121  http://www.nuforc.org/webreports/149/S149405.html   \n",
       "88122  http://www.nuforc.org/webreports/149/S149424.html   \n",
       "88123  http://www.nuforc.org/webreports/149/S149447.html   \n",
       "88124  http://www.nuforc.org/webreports/149/S149436.html   \n",
       "\n",
       "                                                    text               posted  \\\n",
       "0      My wife was driving southeast on a fairly popu...  2019-12-22T00:00:00   \n",
       "1      I think that I may caught a UFO on the NBC Nig...  2019-03-29T00:00:00   \n",
       "2      I woke up late in the afternoon 3:30-4pm.  I w...                  NaN   \n",
       "3      I was driving towards the intersection of fall...  2019-04-18T00:00:00   \n",
       "4      In Peoria, Arizona, I saw a cigar shaped craft...  2019-04-18T00:00:00   \n",
       "...                                                  ...                  ...   \n",
       "88120  4 lights in formation over Tempe appear while ...  2019-10-04T00:00:00   \n",
       "88121  2 bright star like lights in the NNW sky two b...  2019-10-04T00:00:00   \n",
       "88122  10/2/19 @ 8:03PM EST  UFO SIGHTING in the 3428...  2019-10-04T00:00:00   \n",
       "88123  Witnessed an orange, slow moving light. Was lo...  2019-10-04T00:00:00   \n",
       "88124  Glowing lights in formation  just south of San...  2019-10-04T00:00:00   \n",
       "\n",
       "       city_latitude  city_longitude  \n",
       "0          37.343152      -77.408582  \n",
       "1          41.664800      -72.639300  \n",
       "2                NaN             NaN  \n",
       "3          45.381383      -75.708501  \n",
       "4                NaN             NaN  \n",
       "...              ...             ...  \n",
       "88120      33.414036     -111.920920  \n",
       "88121      37.642200      -93.399600  \n",
       "88122      27.076210      -82.223280  \n",
       "88123      35.605000      -82.313200  \n",
       "88124            NaN             NaN  \n",
       "\n",
       "[88125 rows x 12 columns]"
      ]
     },
     "execution_count": 47,
     "metadata": {},
     "output_type": "execute_result"
    }
   ],
   "source": [
    "ufos = pd.read_csv(\"../data/nuforc_reports.csv\", parse_dates=[\"date_time\"])\n",
    "ufos"
   ]
  },
  {
   "cell_type": "code",
   "execution_count": 49,
   "metadata": {},
   "outputs": [
    {
     "name": "stdout",
     "output_type": "stream",
     "text": [
      "<class 'pandas.core.frame.DataFrame'>\n",
      "RangeIndex: 88125 entries, 0 to 88124\n",
      "Data columns (total 12 columns):\n",
      " #   Column          Non-Null Count  Dtype         \n",
      "---  ------          --------------  -----         \n",
      " 0   summary         88095 non-null  object        \n",
      " 1   city            87888 non-null  object        \n",
      " 2   state           82890 non-null  object        \n",
      " 3   date_time       86938 non-null  datetime64[ns]\n",
      " 4   shape           85627 non-null  object        \n",
      " 5   duration        84951 non-null  object        \n",
      " 6   stats           88088 non-null  object        \n",
      " 7   report_link     88125 non-null  object        \n",
      " 8   text            88070 non-null  object        \n",
      " 9   posted          86938 non-null  object        \n",
      " 10  city_latitude   72013 non-null  float64       \n",
      " 11  city_longitude  72013 non-null  float64       \n",
      "dtypes: datetime64[ns](1), float64(2), object(9)\n",
      "memory usage: 8.1+ MB\n"
     ]
    }
   ],
   "source": [
    "ufos.info()"
   ]
  },
  {
   "cell_type": "markdown",
   "metadata": {},
   "source": [
    "## Useful properties\n",
    "ufos[\"date_time\"].dt.year\n",
    "falar de mais, como mes, semana, dia, hora etc\n",
    "\n"
   ]
  },
  {
   "cell_type": "code",
   "execution_count": 51,
   "metadata": {},
   "outputs": [
    {
     "data": {
      "text/plain": [
       "0        2019.0\n",
       "1        2019.0\n",
       "2           NaN\n",
       "3        2019.0\n",
       "4        2009.0\n",
       "          ...  \n",
       "88120    2019.0\n",
       "88121    2019.0\n",
       "88122    2019.0\n",
       "88123    2019.0\n",
       "88124    2019.0\n",
       "Name: date_time, Length: 88125, dtype: float64"
      ]
     },
     "execution_count": 51,
     "metadata": {},
     "output_type": "execute_result"
    }
   ],
   "source": [
    "ufos[\"date_time\"].dt.year"
   ]
  },
  {
   "cell_type": "code",
   "execution_count": 52,
   "metadata": {},
   "outputs": [
    {
     "data": {
      "text/plain": [
       "0        12.0\n",
       "1         3.0\n",
       "2         NaN\n",
       "3         4.0\n",
       "4         3.0\n",
       "         ... \n",
       "88120    10.0\n",
       "88121    10.0\n",
       "88122    10.0\n",
       "88123    10.0\n",
       "88124    10.0\n",
       "Name: date_time, Length: 88125, dtype: float64"
      ]
     },
     "execution_count": 52,
     "metadata": {},
     "output_type": "execute_result"
    }
   ],
   "source": [
    "ufos[\"date_time\"].dt.month"
   ]
  },
  {
   "cell_type": "markdown",
   "metadata": {},
   "source": [
    "## Comparing dates\n",
    "ufos[\"date_time\"] > \"1980\"\n",
    "com ano pode fazer assim mas com mes e dia tem que expecificar\n",
    "ufos[\"date_time\"] > \"2019-12-10\"\n",
    "se for utilizar o igual pode ser que nao funcione por causa do horario\n",
    "\n",
    "tambem posso comparar atrb especificos\n",
    "ufos[\"date_time\"].dt.hour == 2\n",
    "podemos tambem usar o between\n",
    "ufos[\"date_time\"].between(\"2017\", \"2020\")"
   ]
  },
  {
   "cell_type": "code",
   "execution_count": 53,
   "metadata": {},
   "outputs": [
    {
     "data": {
      "text/plain": [
       "0         True\n",
       "1         True\n",
       "2        False\n",
       "3         True\n",
       "4         True\n",
       "         ...  \n",
       "88120     True\n",
       "88121     True\n",
       "88122     True\n",
       "88123     True\n",
       "88124     True\n",
       "Name: date_time, Length: 88125, dtype: bool"
      ]
     },
     "execution_count": 53,
     "metadata": {},
     "output_type": "execute_result"
    }
   ],
   "source": [
    "ufos[\"date_time\"] > \"1980\""
   ]
  },
  {
   "cell_type": "code",
   "execution_count": 54,
   "metadata": {},
   "outputs": [
    {
     "data": {
      "text/plain": [
       "0         True\n",
       "1        False\n",
       "2        False\n",
       "3        False\n",
       "4        False\n",
       "         ...  \n",
       "88120    False\n",
       "88121    False\n",
       "88122    False\n",
       "88123    False\n",
       "88124    False\n",
       "Name: date_time, Length: 88125, dtype: bool"
      ]
     },
     "execution_count": 54,
     "metadata": {},
     "output_type": "execute_result"
    }
   ],
   "source": [
    "ufos[\"date_time\"] > \"2019-12-10\""
   ]
  },
  {
   "cell_type": "code",
   "execution_count": 55,
   "metadata": {},
   "outputs": [
    {
     "data": {
      "text/plain": [
       "0        False\n",
       "1        False\n",
       "2        False\n",
       "3         True\n",
       "4        False\n",
       "         ...  \n",
       "88120    False\n",
       "88121    False\n",
       "88122    False\n",
       "88123    False\n",
       "88124    False\n",
       "Name: date_time, Length: 88125, dtype: bool"
      ]
     },
     "execution_count": 55,
     "metadata": {},
     "output_type": "execute_result"
    }
   ],
   "source": [
    "ufos[\"date_time\"].dt.hour == 2"
   ]
  },
  {
   "cell_type": "code",
   "execution_count": 75,
   "metadata": {},
   "outputs": [
    {
     "data": {
      "text/plain": [
       "0         True\n",
       "1         True\n",
       "2        False\n",
       "3         True\n",
       "4        False\n",
       "         ...  \n",
       "88120     True\n",
       "88121     True\n",
       "88122     True\n",
       "88123     True\n",
       "88124     True\n",
       "Name: date_time, Length: 88125, dtype: bool"
      ]
     },
     "execution_count": 75,
     "metadata": {},
     "output_type": "execute_result"
    }
   ],
   "source": [
    "ufos[\"date_time\"].between(\"2017\", \"2020\")"
   ]
  },
  {
   "cell_type": "code",
   "execution_count": null,
   "metadata": {},
   "outputs": [],
   "source": []
  }
 ],
 "metadata": {
  "kernelspec": {
   "display_name": "venv",
   "language": "python",
   "name": "python3"
  },
  "language_info": {
   "codemirror_mode": {
    "name": "ipython",
    "version": 3
   },
   "file_extension": ".py",
   "mimetype": "text/x-python",
   "name": "python",
   "nbconvert_exporter": "python",
   "pygments_lexer": "ipython3",
   "version": "3.12.8"
  }
 },
 "nbformat": 4,
 "nbformat_minor": 2
}
