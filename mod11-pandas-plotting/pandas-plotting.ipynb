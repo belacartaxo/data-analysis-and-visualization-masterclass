{
 "cells": [
  {
   "cell_type": "markdown",
   "metadata": {},
   "source": [
    "# Revising pandas plotting"
   ]
  },
  {
   "cell_type": "markdown",
   "metadata": {},
   "source": [
    "## Generating and Customizing Plots in Python\n",
    "\n",
    "Python offers tools like `matplotlib` and `pandas` for creating visualizations. Below is an explanation of key concepts and features.\n",
    "\n",
    "---\n",
    "\n",
    "### Setting Styles\n",
    "You can use `matplotlib` styles to change the appearance of plots globally. Styles like `\"ggplot\"` or `\"seaborn\"` apply predefined aesthetics to all plots, allowing for consistent and professional visuals.\n",
    "\n",
    "---\n",
    "\n",
    "### Customization Options\n",
    "Both `matplotlib` and `pandas` allow plot customization:\n",
    "- **Tick Labels**: Adjust the labels on the axes for better readability.\n",
    "- **Axis Limits**: Define specific ranges for the x and y axes.\n",
    "- **Titles and Labels**: Add descriptive titles and axis labels to provide context.\n",
    "- **Figure Size**: Modify the plot dimensions to better fit the data or presentation format.\n",
    "\n",
    "While `pandas` provides built-in plotting methods, these are less flexible compared to `matplotlib`. For finer control, combine the two libraries by using pandas for basic plots and `matplotlib` for adjustments.\n",
    "\n",
    "---\n",
    "\n",
    "## Renaming Series\n",
    "To update specific values in a pandas Series, you can rename them by mapping old values to new ones. When using this feature, ensure you apply changes directly with the `inplace` parameter to avoid creating a copy.\n",
    "\n",
    "---\n",
    "\n",
    "## Bar Plots\n",
    "Bar plots are used to compare discrete categories. Adding a `stacked` attribute combines related categories into a single bar, making it easier to see proportions within each category.\n",
    "\n",
    "---\n",
    "\n",
    "## Histograms\n",
    "Histograms show the distribution of data:\n",
    "- Using `df.hist()` creates a histogram for each column separately.\n",
    "- Using `.plot(kind=\"hist\")` overlays histograms of multiple columns into a single chart, helping to compare distributions directly.\n",
    "\n",
    "---\n",
    "\n",
    "## Box Plots\n",
    "Box plots summarize the spread of data using key statistical metrics:\n",
    "- **Minimum** and **Maximum**: Smallest and largest non-outlier values.\n",
    "- **Quartiles**: Divide the data into four equal parts, highlighting variability.\n",
    "- **Median**: Middle value, indicating the central tendency.\n",
    "- **Outliers**: Points outside the range `[Q1 - 1.5 * IQR, Q3 + 1.5 * IQR]`.\n",
    "\n",
    "Pandas allows box plots through its `.plot` method or the dedicated `boxplot()` function. The option `showfliers` can hide outliers for a cleaner view of the core data distribution.\n",
    "\n",
    "Box plots are particularly useful for identifying variability and outliers across datasets.\n"
   ]
  },
  {
   "cell_type": "markdown",
   "metadata": {},
   "source": [
    "### Scatter Plots in Pandas\n",
    "\n",
    "Scatter plots are useful for visualizing the relationship between two continuous variables. In pandas, you can create scatter plots using `.plot.scatter`. You can customize the marker style to better distinguish data points. This feature is especially useful when visualizing multiple scatter plots on the same figure.\n",
    "\n",
    "---\n",
    "\n",
    "### Multiple Plots in Jupyter Notebooks\n",
    "\n",
    "In Jupyter Notebook, you can display multiple plots by creating them within the same cell. However, using `plt.figure()` allows you to create separate figures, making it easier to manage multiple visualizations in a single cell. This is especially helpful when working with different datasets or styles in the same notebook cell.\n",
    "\n",
    "---\n",
    "\n",
    "### Subplots in Pandas\n",
    "\n",
    "Subplots allow you to display multiple visualizations in a grid layout. In pandas, you can enable subplots with the following options:\n",
    "- **`subplot=True`**: Activates subplot mode, creating separate axes for each column in your DataFrame.\n",
    "- **`layout=(rows, columns)`**: Specifies the grid arrangement for the subplots.\n",
    "- **`sharex` and `sharey`**: Share the x-axis or y-axis among all subplots for consistent scaling.\n",
    "\n",
    "When using subplots, the method returns an array of axes objects (`axs`), which you can access to customize individual subplots:\n",
    "- **`axs[row, col]`**: Access a specific subplot based on its grid position.\n",
    "- Attributes like `.set_xlim()` or `.set_title()` can be used to adjust the axes or titles individually, similar to `matplotlib`.\n",
    "\n",
    "#### Plotting on Specific Subplots\n",
    "When creating multiple plots that are unrelated:\n",
    "1. Use `fig, axs = plt.subplots(...)` to define the grid of subplots.\n",
    "2. Assign each plot to a specific axis using the `ax` parameter of the `.plot()` method:\n",
    "   - `df.plot(ax=axs[row, col])`\n",
    "   - `another_df.plot(ax=axs[row, col])`\n",
    "\n",
    "---\n",
    "\n",
    "### Exporting Figures\n",
    "\n",
    "To save plots directly from the notebook, use `plt.savefig(\"file_name\")` within the same cell where the plot is created. This method saves the figure to a file in your desired format (e.g., `.png`, `.jpg`, `.pdf`) while preserving its appearance and settings.\n"
   ]
  }
 ],
 "metadata": {
  "kernelspec": {
   "display_name": "venv",
   "language": "python",
   "name": "python3"
  },
  "language_info": {
   "codemirror_mode": {
    "name": "ipython",
    "version": 3
   },
   "file_extension": ".py",
   "mimetype": "text/x-python",
   "name": "python",
   "nbconvert_exporter": "python",
   "pygments_lexer": "ipython3",
   "version": "3.12.8"
  }
 },
 "nbformat": 4,
 "nbformat_minor": 2
}
