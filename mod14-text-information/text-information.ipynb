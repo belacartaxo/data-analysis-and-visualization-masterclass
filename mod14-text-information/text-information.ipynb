{
 "cells": [
  {
   "cell_type": "markdown",
   "metadata": {},
   "source": [
    "# Text information\n",
    "## Object vs String in Pandas\n",
    "- **Object Type:** Represents generic data types, including strings, numbers, or mixed types.\n",
    "- **String Type:** Specifically optimized for text data; enables access to `.str` methods.\n",
    "\n",
    "---\n",
    "\n",
    "## Accessing String Methods in Pandas\n",
    "- **Lowercase and Uppercase:**\n",
    "  - `df.str.lower()` - Converts text to lowercase.\n",
    "  - `df.str.upper()` - Converts text to uppercase.\n",
    "\n",
    "- **Indexing Characters:**\n",
    "  - `df.str[0]` - Retrieves the first character of each string.\n",
    "\n",
    "---\n",
    "\n",
    "## Removing Whitespace\n",
    "- **General Removal:**\n",
    "  - `df.str.strip()` - Removes spaces from both ends.\n",
    "  - `df.str.strip(to_strip=\".\")` - Removes specific characters from both ends.\n",
    "- **Directional Removal:**\n",
    "  - `df.str.rstrip()` - Removes spaces or specific characters from the right.\n",
    "  - `df.str.lstrip()` - Removes spaces or specific characters from the left.\n",
    "\n",
    "---\n",
    "\n",
    "## Splitting Strings\n",
    "- **Splitting into Lists:**\n",
    "  - `df.str.split(\"/\")` - Splits strings by the delimiter and returns a list.\n",
    "- **Splitting into DataFrames:**\n",
    "  - `df.str.split(\"/\", expand=True)` - Splits and expands into multiple columns.\n",
    "- **Limiting Splits:**\n",
    "  - `df.str.split(\"/\", n=1)` - Limits the number of splits.\n",
    "\n",
    "---\n",
    "\n",
    "## Replacing Text\n",
    "- **Simple Replace:**\n",
    "  - `df.str.replace(\"old text\", \"new text\")` - Replaces occurrences of `old text` with `new text`.\n",
    "- **Using a Function:**\n",
    "  - `df.str.replace(\"old text\", func)` - Applies a function for replacement.\n",
    "- **Using Regex:**\n",
    "  - `df.str.replace(\"a|b|c\", \"replacement\", regex=True)` - Replaces patterns matching the regex.\n",
    "\n",
    "---\n",
    "\n",
    "## Checking Substrings\n",
    "- **Contains:**\n",
    "  - `df.str.contains(\"str\")` - Checks if strings contain a specific substring, returning `True`/`False`.\n",
    "  - `df.str.contains(\"str\", na=False)` - Ignores `NaN` values, treating them as `False`.\n",
    "\n",
    "---\n",
    "\n",
    "## Key Takeaways\n",
    "Working with text data in Pandas requires using `.str` methods. These methods provide powerful tools for transforming, cleaning, and analyzing string data, making text manipulation efficient and intuitive.\n"
   ]
  },
  {
   "cell_type": "markdown",
   "metadata": {},
   "source": []
  }
 ],
 "metadata": {
  "language_info": {
   "name": "python"
  }
 },
 "nbformat": 4,
 "nbformat_minor": 2
}
